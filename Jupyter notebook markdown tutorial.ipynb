{
 "cells": [
  {
   "cell_type": "markdown",
   "id": "bright-drawing",
   "metadata": {},
   "source": [
    "- text"
   ]
  },
  {
   "cell_type": "markdown",
   "id": "liberal-allowance",
   "metadata": {},
   "source": [
    "# Title"
   ]
  },
  {
   "cell_type": "markdown",
   "id": "collaborative-crossing",
   "metadata": {},
   "source": [
    "$$\\int_a^b x^2 dx $$"
   ]
  },
  {
   "cell_type": "markdown",
   "id": "addressed-syndicate",
   "metadata": {},
   "source": [
    "**bold**  \n",
    "_italics_"
   ]
  },
  {
   "cell_type": "code",
   "execution_count": null,
   "id": "lined-flower",
   "metadata": {},
   "outputs": [],
   "source": []
  }
 ],
 "metadata": {
  "kernelspec": {
   "display_name": "Python 3",
   "language": "python",
   "name": "python3"
  },
  "language_info": {
   "codemirror_mode": {
    "name": "ipython",
    "version": 3
   },
   "file_extension": ".py",
   "mimetype": "text/x-python",
   "name": "python",
   "nbconvert_exporter": "python",
   "pygments_lexer": "ipython3",
   "version": "3.9.1"
  }
 },
 "nbformat": 4,
 "nbformat_minor": 5
}
