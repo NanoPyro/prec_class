{
  "nbformat": 4,
  "nbformat_minor": 0,
  "metadata": {
    "colab": {
      "name": "HW2.ipynb",
      "provenance": [],
      "collapsed_sections": [],
      "authorship_tag": "ABX9TyPZtV1oCNdi+IT6npDSUIuB",
      "include_colab_link": true
    },
    "kernelspec": {
      "name": "python3",
      "display_name": "Python 3"
    },
    "language_info": {
      "name": "python"
    },
    "accelerator": "GPU"
  },
  "cells": [
    {
      "cell_type": "markdown",
      "metadata": {
        "id": "view-in-github",
        "colab_type": "text"
      },
      "source": [
        "<a href=\"https://colab.research.google.com/github/NanoPyro/prec_class/blob/main/HW2.ipynb\" target=\"_parent\"><img src=\"https://colab.research.google.com/assets/colab-badge.svg\" alt=\"Open In Colab\"/></a>"
      ]
    },
    {
      "cell_type": "code",
      "metadata": {
        "colab": {
          "base_uri": "https://localhost:8080/",
          "height": 35
        },
        "id": "1AN88Kau6F3s",
        "outputId": "a01344b1-4668-4494-b19f-f94cab4937f9"
      },
      "source": [
        "import tensorflow\n",
        "tensorflow.keras.__version__"
      ],
      "execution_count": null,
      "outputs": [
        {
          "output_type": "execute_result",
          "data": {
            "application/vnd.google.colaboratory.intrinsic+json": {
              "type": "string"
            },
            "text/plain": [
              "'2.4.0'"
            ]
          },
          "metadata": {
            "tags": []
          },
          "execution_count": 3
        }
      ]
    },
    {
      "cell_type": "code",
      "metadata": {
        "colab": {
          "base_uri": "https://localhost:8080/"
        },
        "id": "ooUon1qc6N1G",
        "outputId": "1fc7f6dd-72f7-4b8e-c4a4-234d0d6f44d1"
      },
      "source": [
        "from tensorflow.keras.datasets import mnist\n",
        "(train_images, train_labels), (test_images, test_labels) = mnist.load_data() # Load data"
      ],
      "execution_count": null,
      "outputs": [
        {
          "output_type": "stream",
          "text": [
            "Downloading data from https://storage.googleapis.com/tensorflow/tf-keras-datasets/mnist.npz\n",
            "11493376/11490434 [==============================] - 0s 0us/step\n"
          ],
          "name": "stdout"
        }
      ]
    },
    {
      "cell_type": "code",
      "metadata": {
        "colab": {
          "base_uri": "https://localhost:8080/"
        },
        "id": "BCAsOr5q6quj",
        "outputId": "374177bf-2ed3-434e-924c-7839e5757893"
      },
      "source": [
        "train_images.shape # 60k data, 28*28 pixels"
      ],
      "execution_count": null,
      "outputs": [
        {
          "output_type": "execute_result",
          "data": {
            "text/plain": [
              "(60000, 28, 28)"
            ]
          },
          "metadata": {
            "tags": []
          },
          "execution_count": 5
        }
      ]
    },
    {
      "cell_type": "code",
      "metadata": {
        "colab": {
          "base_uri": "https://localhost:8080/"
        },
        "id": "9DEwJiDo7Esf",
        "outputId": "004caed6-c93b-405a-b2b0-1d60284108bc"
      },
      "source": [
        "len(train_labels) # 60k data"
      ],
      "execution_count": null,
      "outputs": [
        {
          "output_type": "execute_result",
          "data": {
            "text/plain": [
              "60000"
            ]
          },
          "metadata": {
            "tags": []
          },
          "execution_count": 6
        }
      ]
    },
    {
      "cell_type": "code",
      "metadata": {
        "colab": {
          "base_uri": "https://localhost:8080/"
        },
        "id": "-w4Hxh3B7ODE",
        "outputId": "a6648f80-bea5-48e3-b54c-25a23a4e9ecb"
      },
      "source": [
        "train_labels # numers ranging 0~9"
      ],
      "execution_count": null,
      "outputs": [
        {
          "output_type": "execute_result",
          "data": {
            "text/plain": [
              "array([5, 0, 4, ..., 5, 6, 8], dtype=uint8)"
            ]
          },
          "metadata": {
            "tags": []
          },
          "execution_count": 7
        }
      ]
    },
    {
      "cell_type": "code",
      "metadata": {
        "id": "8oioL5AQ7PUF"
      },
      "source": [
        "from tensorflow.keras import models, layers # Import tools from Keras\n",
        "\n",
        "network = models.Sequential() # Start building our model\n",
        "network.add(layers.Dense(512, activation='relu', input_shape=(28 * 28,)))\n",
        "# First layer. It takes 28*28 one dimensional array, and generates 512 outputs, with ReLu activation function.\n",
        "network.add(layers.Dense(10, activation='softmax'))\n",
        "# Second layer, which produces 10 outputs, the probability that the current digit image belongs to one of 10 digit classes.\n",
        "# From second layer, the input_shape arguemnt is not needed.\n",
        "# Activation function: softmax"
      ],
      "execution_count": null,
      "outputs": []
    },
    {
      "cell_type": "code",
      "metadata": {
        "id": "FAN9JC8G_AAe"
      },
      "source": [
        "network.compile(optimizer='rmsprop',\n",
        "                loss='categorical_crossentropy',\n",
        "                metrics=['accuracy'])\n",
        "# Compilation step\n",
        "# In this step, we decide loss function, optimizer, metrics.\n",
        "# Optimizer decides how the network improves.\n",
        "# Loss function is the measure of how well the network does its job.\n",
        "# Metrics is used to monitor."
      ],
      "execution_count": null,
      "outputs": []
    },
    {
      "cell_type": "code",
      "metadata": {
        "id": "p4cZa2Gc_HO6"
      },
      "source": [
        "# Data preprocessing step\n",
        "train_images = train_images.reshape((60000, 28 * 28)) # Reshaping the data to fit our first layer\n",
        "train_images = train_images.astype('float32') / 255 # Normalization\n",
        "\n",
        "test_images = test_images.reshape((10000, 28 * 28))\n",
        "test_images = test_images.astype('float32') / 255"
      ],
      "execution_count": null,
      "outputs": []
    },
    {
      "cell_type": "code",
      "metadata": {
        "id": "LZ50weni_GtU"
      },
      "source": [
        "from tensorflow.keras.utils import to_categorical\n",
        "\n",
        "train_labels = to_categorical(train_labels)\n",
        "test_labels = to_categorical(test_labels)\n",
        "# Converts to one-hot encoding"
      ],
      "execution_count": null,
      "outputs": []
    },
    {
      "cell_type": "code",
      "metadata": {
        "colab": {
          "base_uri": "https://localhost:8080/"
        },
        "id": "Ev1-gTnyeiaq",
        "outputId": "246b9493-6b0b-494c-864e-586c5045cc95"
      },
      "source": [
        "network.fit(train_images, train_labels, epochs=5, batch_size=128)\n",
        "# Input data: train_images\n",
        "# Target data: train_labels\n",
        "# Number of epochs to train the model: 5\n",
        "# batch_size: number of samples per update"
      ],
      "execution_count": null,
      "outputs": [
        {
          "output_type": "stream",
          "text": [
            "Epoch 1/5\n",
            "469/469 [==============================] - 5s 4ms/step - loss: 0.4443 - accuracy: 0.8696\n",
            "Epoch 2/5\n",
            "469/469 [==============================] - 2s 4ms/step - loss: 0.1135 - accuracy: 0.9665\n",
            "Epoch 3/5\n",
            "469/469 [==============================] - 2s 4ms/step - loss: 0.0700 - accuracy: 0.9789\n",
            "Epoch 4/5\n",
            "469/469 [==============================] - 2s 4ms/step - loss: 0.0472 - accuracy: 0.9857\n",
            "Epoch 5/5\n",
            "469/469 [==============================] - 2s 4ms/step - loss: 0.0355 - accuracy: 0.9895\n"
          ],
          "name": "stdout"
        },
        {
          "output_type": "execute_result",
          "data": {
            "text/plain": [
              "<tensorflow.python.keras.callbacks.History at 0x7f65c063a350>"
            ]
          },
          "metadata": {
            "tags": []
          },
          "execution_count": 12
        }
      ]
    },
    {
      "cell_type": "markdown",
      "metadata": {
        "id": "KOJfccN-fJyr"
      },
      "source": [
        "After 5 epochs, we achieved 98.98% accuracy."
      ]
    },
    {
      "cell_type": "code",
      "metadata": {
        "colab": {
          "base_uri": "https://localhost:8080/"
        },
        "id": "NaGTTLfleroL",
        "outputId": "c29dd0b6-2aeb-4815-b10a-1a075e74a5ca"
      },
      "source": [
        "test_loss, test_acc = network.evaluate(test_images, test_labels)\n",
        "# Input data: test_images\n",
        "# Target data: test_labels\n",
        "# Returns loss value, and metrics value."
      ],
      "execution_count": null,
      "outputs": [
        {
          "output_type": "stream",
          "text": [
            "313/313 [==============================] - 1s 3ms/step - loss: 0.0672 - accuracy: 0.9795\n"
          ],
          "name": "stdout"
        }
      ]
    },
    {
      "cell_type": "code",
      "metadata": {
        "colab": {
          "base_uri": "https://localhost:8080/"
        },
        "id": "DSIdtKlufSBy",
        "outputId": "0ec3cb5c-96b7-4e24-9013-6bf90861bc11"
      },
      "source": [
        "print('test_acc:', test_acc)"
      ],
      "execution_count": null,
      "outputs": [
        {
          "output_type": "stream",
          "text": [
            "test_acc: 0.9794999957084656\n"
          ],
          "name": "stdout"
        }
      ]
    },
    {
      "cell_type": "markdown",
      "metadata": {
        "id": "DBuCw3nRfZQ7"
      },
      "source": [
        "The test set accuracy is 97.95%.  \n",
        "Of course, it's somewhat lower than the train set accuracy.  \n"
      ]
    },
    {
      "cell_type": "code",
      "metadata": {
        "id": "EdzLaN6LfVEs"
      },
      "source": [
        ""
      ],
      "execution_count": null,
      "outputs": []
    }
  ]
}